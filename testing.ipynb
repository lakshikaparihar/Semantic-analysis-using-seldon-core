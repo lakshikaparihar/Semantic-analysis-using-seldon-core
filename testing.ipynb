{
 "metadata": {
  "language_info": {
   "codemirror_mode": {
    "name": "ipython",
    "version": 3
   },
   "file_extension": ".py",
   "mimetype": "text/x-python",
   "name": "python",
   "nbconvert_exporter": "python",
   "pygments_lexer": "ipython3",
   "version": "3.9.1-final"
  },
  "orig_nbformat": 2,
  "kernelspec": {
   "name": "python3",
   "display_name": "Python 3.9.1 64-bit",
   "metadata": {
    "interpreter": {
     "hash": "e18d4b2bb308f5422582ce3726813bfd849c101b508c23b1013b48c41fd83893"
    }
   }
  }
 },
 "nbformat": 4,
 "nbformat_minor": 2,
 "cells": [
  {
   "cell_type": "code",
   "execution_count": 1,
   "metadata": {},
   "outputs": [
    {
     "output_type": "stream",
     "name": "stdout",
     "text": [
      "Initializing class .......\nLoading model..........\nData Cleaned .............\nPredicted result .......................\n(array(['pos'], dtype=object), array([[0.15828755, 0.84171245]]))\n"
     ]
    }
   ],
   "source": [
    "from IMDb import IMDb\n",
    "sample = [\"I Love the movie , SRK's acting was great\"]\n",
    "print(IMDb().predict(sample, [\"feature_name\"]))"
   ]
  },
  {
   "cell_type": "code",
   "execution_count": 2,
   "metadata": {},
   "outputs": [
    {
     "output_type": "stream",
     "name": "stdout",
     "text": [
      "Initializing class .......\n",
      "Loading model..........\n",
      "Data Cleaned .............\n",
      "Predicted result .......................\n",
      "(array(['neg'], dtype=object), array([[0.99000404, 0.00999596]]))\n"
     ]
    }
   ],
   "source": [
    "sample = [\"Salman Khan's acting was worst\"]\n",
    "print(IMDb().predict(sample, [\"feature_name\"]))"
   ]
  },
  {
   "cell_type": "code",
   "execution_count": 3,
   "metadata": {},
   "outputs": [
    {
     "output_type": "stream",
     "name": "stdout",
     "text": [
      "Initializing class .......\n",
      "Loading model..........\n",
      "Data Cleaned .............\n",
      "Predicted result .......................\n",
      "(array(['neg'], dtype=object), array([[0.53723976, 0.46276024]]))\n"
     ]
    }
   ],
   "source": [
    "sample = [\"What the hell was this\"]\n",
    "print(IMDb().predict(sample, [\"feature_name\"]))"
   ]
  },
  {
   "cell_type": "code",
   "execution_count": 4,
   "metadata": {},
   "outputs": [
    {
     "output_type": "stream",
     "name": "stdout",
     "text": [
      "Initializing class .......\n",
      "Loading model..........\n",
      "Data Cleaned .............\n",
      "Predicted result .......................\n",
      "(array(['pos'], dtype=object), array([[0.13273188, 0.86726812]]))\n"
     ]
    }
   ],
   "source": [
    "sample = [\"Veer-Zaara is the best movie\"]\n",
    "print(IMDb().predict(sample, [\"feature_name\"]))"
   ]
  },
  {
   "cell_type": "code",
   "execution_count": null,
   "metadata": {},
   "outputs": [],
   "source": []
  }
 ]
}